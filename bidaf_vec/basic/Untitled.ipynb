{
 "cells": [
  {
   "cell_type": "code",
   "execution_count": 5,
   "metadata": {},
   "outputs": [
    {
     "name": "stdout",
     "output_type": "stream",
     "text": [
      "1.0\n"
     ]
    }
   ],
   "source": [
    "import numpy as np\n",
    "print (np.exp(0.5)/(np.exp(0.5)*2) + np.exp(0.5)/(np.exp(0.5)*2))"
   ]
  },
  {
   "cell_type": "code",
   "execution_count": 12,
   "metadata": {},
   "outputs": [
    {
     "name": "stdout",
     "output_type": "stream",
     "text": [
      "0.193488301627 0.193488301627 0.203408658987 0.409614737759\n",
      "1.0\n"
     ]
    }
   ],
   "source": [
    "\n",
    "a = np.exp(0.05)\n",
    "b = np.exp(0.05)\n",
    "c = np.exp(0.1)\n",
    "d = np.exp(0.8)\n",
    "t = (a+b+c+d)\n",
    "print (a/t, b/t, c/t, d/t)\n",
    "print (a/t+b/t+c/t+d/t)"
   ]
  },
  {
   "cell_type": "code",
   "execution_count": 11,
   "metadata": {},
   "outputs": [
    {
     "name": "stdout",
     "output_type": "stream",
     "text": [
      "3\n",
      "0.00453833806467\n"
     ]
    }
   ],
   "source": [
    "x = 1\n",
    "x += 2\n",
    "print (x)\n",
    "print (np.exp(0.99)/593)"
   ]
  },
  {
   "cell_type": "code",
   "execution_count": 1,
   "metadata": {},
   "outputs": [
    {
     "name": "stdout",
     "output_type": "stream",
     "text": [
      "0.0247\n"
     ]
    }
   ],
   "source": [
    "print ('%.4f' % (0.111111* 0.222))"
   ]
  }
 ],
 "metadata": {
  "kernelspec": {
   "display_name": "Python 3",
   "language": "python",
   "name": "python3"
  },
  "language_info": {
   "codemirror_mode": {
    "name": "ipython",
    "version": 3
   },
   "file_extension": ".py",
   "mimetype": "text/x-python",
   "name": "python",
   "nbconvert_exporter": "python",
   "pygments_lexer": "ipython3",
   "version": "3.6.1"
  }
 },
 "nbformat": 4,
 "nbformat_minor": 2
}

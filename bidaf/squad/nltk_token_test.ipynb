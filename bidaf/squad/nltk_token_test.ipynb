{
 "cells": [
  {
   "cell_type": "code",
   "execution_count": 11,
   "metadata": {},
   "outputs": [],
   "source": [
    "import nltk.tokenize as nltk\n",
    "# from nltk.tokenize import sent_tokenize, word_tokenize\n",
    "s = 'Good muffins cost $3.88\\nin New York.  Please buy me two of them.\\n\\nThanks.'\n",
    "s = \"Super Bowl 50 was an American football game to determine the champion of the National Football League (NFL) for the 2015 season. The American Football Conference (AFC) champion Denver Broncos defeated the National Football Conference (NFC) champion Carolina Panthers 24–10 to earn their third Super Bowl title. The game was played on February 7, 2016, at Levi's Stadium in the San Francisco Bay Area at Santa Clara, California. As this was the 50th Super Bowl, the league emphasized the \\\"golden anniversary\\\" with various gold-themed initiatives, as well as temporarily suspending the tradition of naming each Super Bowl game with Roman numerals (under which the game would have been known as \\\"Super Bowl L\\\"), so that the logo could prominently feature the Arabic numerals 50.\"\n",
    "s = 'The phrase \"in whole or in part\" has been subject to much discussion by scholars of international humanitarian law. The International Criminal Tribunal for the Former Yugoslavia found in Prosecutor v. Radislav Krstic – Trial Chamber I – Judgment – IT-98-33 (2001) ICTY8 (2 August 2001) that Genocide had been committed. In Prosecutor v. Radislav Krstic – Appeals Chamber – Judgment – IT-98-33 (2004) ICTY 7 (19 April 2004) paragraphs 8, 9, 10, and 11 addressed the issue of in part and found that \"the part must be a substantial part of that group. The aim of the Genocide Convention is to prevent the intentional destruction of entire human groups, and the part targeted must be significant enough to have an impact on the group as a whole.\" The Appeals Chamber goes into details of other cases and the opinions of respected commentators on the Genocide Convention to explain how they came to this conclusion.'\n",
    "sents = (nltk.sent_tokenize(s))\n",
    "words = ([nltk.word_tokenize(t) for t in nltk.sent_tokenize(s)])"
   ]
  },
  {
   "cell_type": "code",
   "execution_count": 13,
   "metadata": {},
   "outputs": [
    {
     "name": "stdout",
     "output_type": "stream",
     "text": [
      "5\n",
      "['The phrase \"in whole or in part\" has been subject to much discussion by scholars of international humanitarian law.', 'The International Criminal Tribunal for the Former Yugoslavia found in Prosecutor v. Radislav Krstic – Trial Chamber I – Judgment – IT-98-33 (2001) ICTY8 (2 August 2001) that Genocide had been committed.', 'In Prosecutor v. Radislav Krstic – Appeals Chamber – Judgment – IT-98-33 (2004) ICTY 7 (19 April 2004) paragraphs 8, 9, 10, and 11 addressed the issue of in part and found that \"the part must be a substantial part of that group.', 'The aim of the Genocide Convention is to prevent the intentional destruction of entire human groups, and the part targeted must be significant enough to have an impact on the group as a whole.\"', 'The Appeals Chamber goes into details of other cases and the opinions of respected commentators on the Genocide Convention to explain how they came to this conclusion.']\n",
      "5\n",
      "[['The', 'phrase', '``', 'in', 'whole', 'or', 'in', 'part', \"''\", 'has', 'been', 'subject', 'to', 'much', 'discussion', 'by', 'scholars', 'of', 'international', 'humanitarian', 'law', '.'], ['The', 'International', 'Criminal', 'Tribunal', 'for', 'the', 'Former', 'Yugoslavia', 'found', 'in', 'Prosecutor', 'v.', 'Radislav', 'Krstic', '–', 'Trial', 'Chamber', 'I', '–', 'Judgment', '–', 'IT-98-33', '(', '2001', ')', 'ICTY8', '(', '2', 'August', '2001', ')', 'that', 'Genocide', 'had', 'been', 'committed', '.'], ['In', 'Prosecutor', 'v.', 'Radislav', 'Krstic', '–', 'Appeals', 'Chamber', '–', 'Judgment', '–', 'IT-98-33', '(', '2004', ')', 'ICTY', '7', '(', '19', 'April', '2004', ')', 'paragraphs', '8', ',', '9', ',', '10', ',', 'and', '11', 'addressed', 'the', 'issue', 'of', 'in', 'part', 'and', 'found', 'that', '``', 'the', 'part', 'must', 'be', 'a', 'substantial', 'part', 'of', 'that', 'group', '.'], ['The', 'aim', 'of', 'the', 'Genocide', 'Convention', 'is', 'to', 'prevent', 'the', 'intentional', 'destruction', 'of', 'entire', 'human', 'groups', ',', 'and', 'the', 'part', 'targeted', 'must', 'be', 'significant', 'enough', 'to', 'have', 'an', 'impact', 'on', 'the', 'group', 'as', 'a', 'whole', '.', \"''\"], ['The', 'Appeals', 'Chamber', 'goes', 'into', 'details', 'of', 'other', 'cases', 'and', 'the', 'opinions', 'of', 'respected', 'commentators', 'on', 'the', 'Genocide', 'Convention', 'to', 'explain', 'how', 'they', 'came', 'to', 'this', 'conclusion', '.']]\n"
     ]
    }
   ],
   "source": [
    "print (len(sents))\n",
    "print (sents)\n",
    "print (len(words))\n",
    "print (words)"
   ]
  }
 ],
 "metadata": {
  "kernelspec": {
   "display_name": "Python 3",
   "language": "python",
   "name": "python3"
  },
  "language_info": {
   "codemirror_mode": {
    "name": "ipython",
    "version": 3
   },
   "file_extension": ".py",
   "mimetype": "text/x-python",
   "name": "python",
   "nbconvert_exporter": "python",
   "pygments_lexer": "ipython3",
   "version": "3.6.1"
  }
 },
 "nbformat": 4,
 "nbformat_minor": 2
}

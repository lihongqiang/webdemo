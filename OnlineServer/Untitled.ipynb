{
 "cells": [
  {
   "cell_type": "code",
   "execution_count": null,
   "metadata": {
    "collapsed": true
   },
   "outputs": [],
   "source": [
    "from gevent import monkey; monkey.patch_all()\n",
    "import gevent\n",
    "\n",
    "def f(n):\n",
    "    gevent.sleep(1)\n",
    "    print (gevent.getcurrent(), n)\n",
    "\n",
    "gevent.joinall([\n",
    "        gevent.spawn(f, 1),\n",
    "        gevent.spawn(f, 2),\n",
    "        gevent.spawn(f, 3),\n",
    "])"
   ]
  },
  {
   "cell_type": "code",
   "execution_count": 2,
   "metadata": {},
   "outputs": [
    {
     "name": "stdout",
     "output_type": "stream",
     "text": [
      "Synchronous:\n",
      "Task 1 done\n",
      "Task 2 done\n",
      "Task 3 done\n",
      "Task 4 done\n",
      "Task 5 done\n",
      "Task 6 done\n",
      "Task 7 done\n",
      "Task 8 done\n",
      "Task 9 done\n",
      "Asynchronous:\n",
      "Task 0 done\n",
      "Task 1 done\n",
      "Task 2 done\n",
      "Task 3 done\n",
      "Task 4 done\n",
      "Task 5 done\n",
      "Task 6 done\n",
      "Task 7 done\n",
      "Task 8 done\n",
      "Task 9 done\n"
     ]
    }
   ],
   "source": [
    "import gevent\n",
    " \n",
    "def task(pid):\n",
    "    \"\"\"\n",
    "    Some non-deterministic task\n",
    "    \"\"\"\n",
    "    gevent.sleep(0.5)\n",
    "    print('Task %s done' % pid)\n",
    " \n",
    "def synchronous():\n",
    "    for i in range(1,10):\n",
    "        task(i)\n",
    " \n",
    "def asynchronous():\n",
    "    threads = [gevent.spawn(task, i) for i in range(10)]\n",
    "    gevent.joinall(threads)\n",
    " \n",
    "print('Synchronous:')\n",
    "synchronous()\n",
    " \n",
    "print('Asynchronous:')\n",
    "asynchronous()"
   ]
  },
  {
   "cell_type": "code",
   "execution_count": 5,
   "metadata": {},
   "outputs": [
    {
     "name": "stdout",
     "output_type": "stream",
     "text": [
      "124\n"
     ]
    }
   ],
   "source": [
    "s = \"\"\"Super Bowl 50 was an American football game to determine the champion of the National Football League (NFL) for the 2015 season. The American Football Conference (AFC) champion Denver Broncos defeated the National Football Conference (NFC) champion Carolina Panthers 24–10 to earn their third Super Bowl title. The game was played on February 7, 2016, at Levi's Stadium in the San Francisco Bay Area at Santa Clara, California. As this was the 50th Super Bowl, the league emphasized the \\\"golden anniversary\\\" with various gold-themed initiatives, as well as temporarily suspending the tradition of naming each Super Bowl game with Roman numerals (under which the game would have been known as \\\"Super Bowl L\\\"), so that the logo could prominently feature the Arabic numerals 50.\"\"\"\n",
    "print (len(s.split()))"
   ]
  }
 ],
 "metadata": {
  "kernelspec": {
   "display_name": "Python 3",
   "language": "python",
   "name": "python3"
  },
  "language_info": {
   "codemirror_mode": {
    "name": "ipython",
    "version": 3
   },
   "file_extension": ".py",
   "mimetype": "text/x-python",
   "name": "python",
   "nbconvert_exporter": "python",
   "pygments_lexer": "ipython3",
   "version": "3.6.1"
  }
 },
 "nbformat": 4,
 "nbformat_minor": 2
}
